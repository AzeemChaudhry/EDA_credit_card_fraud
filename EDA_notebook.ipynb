{
 "cells": [
  {
   "cell_type": "code",
   "execution_count": 70,
   "metadata": {},
   "outputs": [],
   "source": [
    "# understanding the data\n",
    "# Data cleaning and data wrangling\n",
    "# Data visualization and representation \n",
    "# identifying outliers and imporving data \n",
    "# Correlation and anomaly detection\n",
    "# Detecting and applying an algorithm of our choice to detect fradulant activities\n",
    "\n"
   ]
  },
  {
   "cell_type": "code",
   "execution_count": 71,
   "metadata": {},
   "outputs": [],
   "source": [
    "# libraries \n",
    "\n",
    "#Data processing \n",
    "import pandas as pd \n",
    "import numpy as np \n",
    "\n",
    "#Data visualization \n",
    "import matplotlib.pyplot as plt\n",
    "\n",
    "#misc \n",
    "import requests\n",
    "\n"
   ]
  },
  {
   "cell_type": "code",
   "execution_count": 72,
   "metadata": {},
   "outputs": [
    {
     "name": "stdout",
     "output_type": "stream",
     "text": [
      "   Unnamed: 0 transaction_date !@#$%^&*()%Gender Age_Group Transaction_City  \\\n",
      "0           0       08/12/2023            Female   Over 45         Rochdale   \n",
      "1           1       22/09/2022             Other  25 to 30             Kent   \n",
      "\n",
      "  Merchant_Type   Card_Type Device_OS  !@$Amount  Unnamed: 9  ...       V20  \\\n",
      "0        Travel  Debit Card       iOS     149.62         0.0  ...  0.251412   \n",
      "1        Retail      Paypal   Android       2.69         0.0  ... -0.069083   \n",
      "\n",
      "        V21       V22       V23       V24       V25       V26       V27  \\\n",
      "0 -0.018307  0.277838 -0.110474  0.066928  0.128539 -0.189115  0.133558   \n",
      "1 -0.225775 -0.638672  0.101288 -0.339846  0.167170  0.125895 -0.008983   \n",
      "\n",
      "        V28  is_Fraudulent  \n",
      "0 -0.021053              0  \n",
      "1  0.014724              0  \n",
      "\n",
      "[2 rows x 39 columns]\n"
     ]
    }
   ],
   "source": [
    "\n",
    "\n",
    "\n",
    "# Send an HTTP GET request to the server\n",
    "response = requests.get(\"https://rana-portfolio.com/Mock_Data_Sets/Fraud_CreditCard.csv\")\n",
    "\n",
    "if response.status_code == 200:\n",
    "    # Read the content of the response\n",
    "    file_contents = response.text\n",
    "    \n",
    "    # Convert the string to a StringIO object\n",
    "    file_object = StringIO(file_contents)\n",
    "    \n",
    "    # Read the StringIO object as a DataFrame\n",
    "    df = pd.read_csv(file_object)\n",
    "    \n",
    "    # Now you can work with the DataFrame 'df'\n",
    "    print(df.head(2))\n",
    "else:\n",
    "    print(\"Failed to fetch the file. Status code:\", response.status_code)\n"
   ]
  },
  {
   "cell_type": "code",
   "execution_count": 73,
   "metadata": {},
   "outputs": [
    {
     "data": {
      "text/html": [
       "<div>\n",
       "<style scoped>\n",
       "    .dataframe tbody tr th:only-of-type {\n",
       "        vertical-align: middle;\n",
       "    }\n",
       "\n",
       "    .dataframe tbody tr th {\n",
       "        vertical-align: top;\n",
       "    }\n",
       "\n",
       "    .dataframe thead th {\n",
       "        text-align: right;\n",
       "    }\n",
       "</style>\n",
       "<table border=\"1\" class=\"dataframe\">\n",
       "  <thead>\n",
       "    <tr style=\"text-align: right;\">\n",
       "      <th></th>\n",
       "      <th>Unnamed: 0</th>\n",
       "      <th>transaction_date</th>\n",
       "      <th>!@#$%^&amp;*()%Gender</th>\n",
       "      <th>Age_Group</th>\n",
       "      <th>Transaction_City</th>\n",
       "      <th>Merchant_Type</th>\n",
       "      <th>Card_Type</th>\n",
       "      <th>Device_OS</th>\n",
       "      <th>!@$Amount</th>\n",
       "      <th>Unnamed: 9</th>\n",
       "      <th>...</th>\n",
       "      <th>V20</th>\n",
       "      <th>V21</th>\n",
       "      <th>V22</th>\n",
       "      <th>V23</th>\n",
       "      <th>V24</th>\n",
       "      <th>V25</th>\n",
       "      <th>V26</th>\n",
       "      <th>V27</th>\n",
       "      <th>V28</th>\n",
       "      <th>is_Fraudulent</th>\n",
       "    </tr>\n",
       "  </thead>\n",
       "  <tbody>\n",
       "    <tr>\n",
       "      <th>0</th>\n",
       "      <td>0</td>\n",
       "      <td>08/12/2023</td>\n",
       "      <td>Female</td>\n",
       "      <td>Over 45</td>\n",
       "      <td>Rochdale</td>\n",
       "      <td>Travel</td>\n",
       "      <td>Debit Card</td>\n",
       "      <td>iOS</td>\n",
       "      <td>149.62</td>\n",
       "      <td>0.0</td>\n",
       "      <td>...</td>\n",
       "      <td>0.251412</td>\n",
       "      <td>-0.018307</td>\n",
       "      <td>0.277838</td>\n",
       "      <td>-0.110474</td>\n",
       "      <td>0.066928</td>\n",
       "      <td>0.128539</td>\n",
       "      <td>-0.189115</td>\n",
       "      <td>0.133558</td>\n",
       "      <td>-0.021053</td>\n",
       "      <td>0</td>\n",
       "    </tr>\n",
       "    <tr>\n",
       "      <th>1</th>\n",
       "      <td>1</td>\n",
       "      <td>22/09/2022</td>\n",
       "      <td>Other</td>\n",
       "      <td>25 to 30</td>\n",
       "      <td>Kent</td>\n",
       "      <td>Retail</td>\n",
       "      <td>Paypal</td>\n",
       "      <td>Android</td>\n",
       "      <td>2.69</td>\n",
       "      <td>0.0</td>\n",
       "      <td>...</td>\n",
       "      <td>-0.069083</td>\n",
       "      <td>-0.225775</td>\n",
       "      <td>-0.638672</td>\n",
       "      <td>0.101288</td>\n",
       "      <td>-0.339846</td>\n",
       "      <td>0.167170</td>\n",
       "      <td>0.125895</td>\n",
       "      <td>-0.008983</td>\n",
       "      <td>0.014724</td>\n",
       "      <td>0</td>\n",
       "    </tr>\n",
       "    <tr>\n",
       "      <th>2</th>\n",
       "      <td>2</td>\n",
       "      <td>07/07/2021</td>\n",
       "      <td>Other</td>\n",
       "      <td>31 to 35</td>\n",
       "      <td>Rochdale</td>\n",
       "      <td>Retail</td>\n",
       "      <td>Paypal</td>\n",
       "      <td>Windows</td>\n",
       "      <td>378.66</td>\n",
       "      <td>1.0</td>\n",
       "      <td>...</td>\n",
       "      <td>0.524980</td>\n",
       "      <td>0.247998</td>\n",
       "      <td>0.771679</td>\n",
       "      <td>0.909412</td>\n",
       "      <td>-0.689281</td>\n",
       "      <td>-0.327642</td>\n",
       "      <td>-0.139097</td>\n",
       "      <td>-0.055353</td>\n",
       "      <td>-0.059752</td>\n",
       "      <td>0</td>\n",
       "    </tr>\n",
       "    <tr>\n",
       "      <th>3</th>\n",
       "      <td>3</td>\n",
       "      <td>14/10/2023</td>\n",
       "      <td>Female</td>\n",
       "      <td>25 to 30</td>\n",
       "      <td>Southampton</td>\n",
       "      <td>Entertainment</td>\n",
       "      <td>Credit Card</td>\n",
       "      <td>Android</td>\n",
       "      <td>123.50</td>\n",
       "      <td>1.0</td>\n",
       "      <td>...</td>\n",
       "      <td>-0.208038</td>\n",
       "      <td>-0.108300</td>\n",
       "      <td>0.005274</td>\n",
       "      <td>-0.190321</td>\n",
       "      <td>-1.175575</td>\n",
       "      <td>0.647376</td>\n",
       "      <td>-0.221929</td>\n",
       "      <td>0.062723</td>\n",
       "      <td>0.061458</td>\n",
       "      <td>0</td>\n",
       "    </tr>\n",
       "    <tr>\n",
       "      <th>4</th>\n",
       "      <td>4</td>\n",
       "      <td>08/12/2023</td>\n",
       "      <td>Other</td>\n",
       "      <td>Over 45</td>\n",
       "      <td>London</td>\n",
       "      <td>Entertainment</td>\n",
       "      <td>Credit Card</td>\n",
       "      <td>iOS</td>\n",
       "      <td>69.99</td>\n",
       "      <td>2.0</td>\n",
       "      <td>...</td>\n",
       "      <td>0.408542</td>\n",
       "      <td>-0.009431</td>\n",
       "      <td>0.798278</td>\n",
       "      <td>-0.137458</td>\n",
       "      <td>0.141267</td>\n",
       "      <td>-0.206010</td>\n",
       "      <td>0.502292</td>\n",
       "      <td>0.219422</td>\n",
       "      <td>0.215153</td>\n",
       "      <td>0</td>\n",
       "    </tr>\n",
       "  </tbody>\n",
       "</table>\n",
       "<p>5 rows × 39 columns</p>\n",
       "</div>"
      ],
      "text/plain": [
       "   Unnamed: 0 transaction_date !@#$%^&*()%Gender Age_Group Transaction_City  \\\n",
       "0           0       08/12/2023            Female   Over 45         Rochdale   \n",
       "1           1       22/09/2022             Other  25 to 30             Kent   \n",
       "2           2       07/07/2021             Other  31 to 35         Rochdale   \n",
       "3           3       14/10/2023            Female  25 to 30      Southampton   \n",
       "4           4       08/12/2023             Other   Over 45           London   \n",
       "\n",
       "   Merchant_Type    Card_Type Device_OS  !@$Amount  Unnamed: 9  ...       V20  \\\n",
       "0         Travel   Debit Card       iOS     149.62         0.0  ...  0.251412   \n",
       "1         Retail       Paypal   Android       2.69         0.0  ... -0.069083   \n",
       "2         Retail       Paypal   Windows     378.66         1.0  ...  0.524980   \n",
       "3  Entertainment  Credit Card   Android     123.50         1.0  ... -0.208038   \n",
       "4  Entertainment  Credit Card       iOS      69.99         2.0  ...  0.408542   \n",
       "\n",
       "        V21       V22       V23       V24       V25       V26       V27  \\\n",
       "0 -0.018307  0.277838 -0.110474  0.066928  0.128539 -0.189115  0.133558   \n",
       "1 -0.225775 -0.638672  0.101288 -0.339846  0.167170  0.125895 -0.008983   \n",
       "2  0.247998  0.771679  0.909412 -0.689281 -0.327642 -0.139097 -0.055353   \n",
       "3 -0.108300  0.005274 -0.190321 -1.175575  0.647376 -0.221929  0.062723   \n",
       "4 -0.009431  0.798278 -0.137458  0.141267 -0.206010  0.502292  0.219422   \n",
       "\n",
       "        V28  is_Fraudulent  \n",
       "0 -0.021053              0  \n",
       "1  0.014724              0  \n",
       "2 -0.059752              0  \n",
       "3  0.061458              0  \n",
       "4  0.215153              0  \n",
       "\n",
       "[5 rows x 39 columns]"
      ]
     },
     "execution_count": 73,
     "metadata": {},
     "output_type": "execute_result"
    }
   ],
   "source": [
    "df.head()"
   ]
  },
  {
   "cell_type": "code",
   "execution_count": 74,
   "metadata": {},
   "outputs": [],
   "source": [
    "# notice how some headings contains special characters, lets fix that. \n",
    "# we can remove the special characters by using regex \n",
    "df.columns = df.columns.str.replace(r'[^\\w\\s]', '', regex=True)"
   ]
  },
  {
   "cell_type": "code",
   "execution_count": 80,
   "metadata": {},
   "outputs": [],
   "source": [
    "# renaming the columns \n",
    "df.rename(columns ={'Unnamed 0': 'column0','Unnamed 9' : 'column9'}, inplace = True)"
   ]
  },
  {
   "cell_type": "code",
   "execution_count": 81,
   "metadata": {},
   "outputs": [
    {
     "data": {
      "text/plain": [
       "Index(['column0', 'transaction_date', 'Gender', 'Age_Group',\n",
       "       'Transaction_City', 'Merchant_Type', 'Card_Type', 'Device_OS', 'Amount',\n",
       "       'column9', 'V1', 'V2', 'V3', 'V4', 'V5', 'V6', 'V7', 'V8', 'V9', 'V10',\n",
       "       'V11', 'V12', 'V13', 'V14', 'V15', 'V16', 'V17', 'V18', 'V19', 'V20',\n",
       "       'V21', 'V22', 'V23', 'V24', 'V25', 'V26', 'V27', 'V28',\n",
       "       'is_Fraudulent'],\n",
       "      dtype='object')"
      ]
     },
     "execution_count": 81,
     "metadata": {},
     "output_type": "execute_result"
    }
   ],
   "source": [
    "df.columns"
   ]
  },
  {
   "cell_type": "markdown",
   "metadata": {},
   "source": [
    "the columns are renamed and special characters are removed\n"
   ]
  },
  {
   "cell_type": "code",
   "execution_count": 82,
   "metadata": {},
   "outputs": [],
   "source": [
    "# we dont need column0 and column9 \n",
    "# one way to check this is correlation factor between these columns and the rest\n",
    "numeric_df = df.select_dtypes(include = 'number') # only select those columns that has a numeric value\n",
    "correlation_factor_column0 = numeric_df.corr()[\"column0\"]"
   ]
  },
  {
   "cell_type": "code",
   "execution_count": 83,
   "metadata": {},
   "outputs": [
    {
     "data": {
      "text/plain": [
       "column0          1.000000\n",
       "Amount          -0.015808\n",
       "column9          0.993379\n",
       "V1               0.111873\n",
       "V2              -0.001170\n",
       "V3              -0.404650\n",
       "V4              -0.102289\n",
       "V5               0.168638\n",
       "V6              -0.062841\n",
       "V7               0.081546\n",
       "V8              -0.034901\n",
       "V9              -0.003745\n",
       "V10              0.025608\n",
       "V11             -0.239628\n",
       "V12              0.121110\n",
       "V13             -0.056473\n",
       "V14             -0.092074\n",
       "V15             -0.177360\n",
       "V16              0.010630\n",
       "V17             -0.070109\n",
       "V18              0.090488\n",
       "V19              0.027438\n",
       "V20             -0.049049\n",
       "V21              0.040138\n",
       "V22              0.134065\n",
       "V23              0.050752\n",
       "V24             -0.014528\n",
       "V25             -0.227711\n",
       "V26             -0.037922\n",
       "V27             -0.004554\n",
       "V28             -0.009412\n",
       "is_Fraudulent   -0.011692\n",
       "Name: column0, dtype: float64"
      ]
     },
     "execution_count": 83,
     "metadata": {},
     "output_type": "execute_result"
    }
   ],
   "source": [
    "correlation_factor_column0 "
   ]
  },
  {
   "cell_type": "markdown",
   "metadata": {},
   "source": [
    "\n",
    " Interpretation of Correlation Values\n",
    "\n",
    "0.9 to 1.0 (-0.9 to -1.0): Very strong positive (negative) correlation\n",
    "\n",
    "0.7 to 0.9 (-0.7 to -0.9): Strong positive (negative) correlation\n",
    "\n",
    "0.5 to 0.7 (-0.5 to -0.7): Moderate positive (negative) correlation\n",
    "\n",
    "0.3 to 0.5 (-0.3 to -0.5): Weak positive (negative) correlation\n",
    "\n",
    "0.0 to 0.3 (-0.0 to -0.3): Very weak or negligible positive (negative) correlation"
   ]
  },
  {
   "cell_type": "markdown",
   "metadata": {},
   "source": [
    "If you notice correlation factor of column0 with all the other columns is very weak or negligible\n",
    "\n",
    "##### this implies that column0 does not have any relationship with other columns.\n"
   ]
  },
  {
   "cell_type": "code",
   "execution_count": 84,
   "metadata": {},
   "outputs": [
    {
     "data": {
      "text/plain": [
       "column0          0.993379\n",
       "Amount          -0.010607\n",
       "column9          1.000000\n",
       "V1               0.117436\n",
       "V2              -0.010563\n",
       "V3              -0.419632\n",
       "V4              -0.105228\n",
       "V5               0.173147\n",
       "V6              -0.062966\n",
       "V7               0.084752\n",
       "V8              -0.036971\n",
       "V9              -0.008655\n",
       "V10              0.030614\n",
       "V11             -0.247733\n",
       "V12              0.124392\n",
       "V13             -0.065937\n",
       "V14             -0.098771\n",
       "V15             -0.183449\n",
       "V16              0.011885\n",
       "V17             -0.073318\n",
       "V18              0.090374\n",
       "V19              0.029013\n",
       "V20             -0.050887\n",
       "V21              0.044741\n",
       "V22              0.144031\n",
       "V23              0.051130\n",
       "V24             -0.016158\n",
       "V25             -0.233110\n",
       "V26             -0.041422\n",
       "V27             -0.005161\n",
       "V28             -0.009436\n",
       "is_Fraudulent   -0.012329\n",
       "Name: column9, dtype: float64"
      ]
     },
     "execution_count": 84,
     "metadata": {},
     "output_type": "execute_result"
    }
   ],
   "source": [
    "# similarly lets check for column9 \n",
    "\n",
    "correlation_factor_column9 = numeric_df.corr()[\"column9\"]\n",
    "correlation_factor_column9"
   ]
  },
  {
   "cell_type": "code",
   "execution_count": 85,
   "metadata": {},
   "outputs": [],
   "source": [
    "# hence we can drop these two columns\n",
    "# before dropping them lets do the right thing and make a copy of the original dataset \n",
    "\n",
    "df_copy = df"
   ]
  },
  {
   "cell_type": "code",
   "execution_count": 90,
   "metadata": {},
   "outputs": [],
   "source": [
    "# Drop two columns\n",
    "df_copy = df_copy.drop(columns=['column0', 'column9'])"
   ]
  },
  {
   "cell_type": "code",
   "execution_count": 91,
   "metadata": {},
   "outputs": [
    {
     "data": {
      "text/plain": [
       "Index(['transaction_date', 'Gender', 'Age_Group', 'Transaction_City',\n",
       "       'Merchant_Type', 'Card_Type', 'Device_OS', 'Amount', 'V1', 'V2', 'V3',\n",
       "       'V4', 'V5', 'V6', 'V7', 'V8', 'V9', 'V10', 'V11', 'V12', 'V13', 'V14',\n",
       "       'V15', 'V16', 'V17', 'V18', 'V19', 'V20', 'V21', 'V22', 'V23', 'V24',\n",
       "       'V25', 'V26', 'V27', 'V28', 'is_Fraudulent'],\n",
       "      dtype='object')"
      ]
     },
     "execution_count": 91,
     "metadata": {},
     "output_type": "execute_result"
    }
   ],
   "source": [
    "df_copy.columns"
   ]
  },
  {
   "cell_type": "markdown",
   "metadata": {},
   "source": [
    "##### Dealing with missing values is one of the most important and tricky part to do with the dataset.Normally, people delete the null rows and work with the rest of the dataset but in most cases there is organisation defined rules to deals with missing values, e.g Constant values or new feature column etc.\n",
    "\n",
    "#####  There are several options disscussed below. Option 1: Drop missing values T_cols = T_cols.dropna()\n",
    "\n",
    "##### Option 2 : Impute the Mission Values You can use various imputation techniques, such as mean, median, mode, or advanced methods like regression imputation or K-nearest neighbors imputation."
   ]
  },
  {
   "cell_type": "code",
   "execution_count": 92,
   "metadata": {},
   "outputs": [
    {
     "name": "stderr",
     "output_type": "stream",
     "text": [
      "C:\\Users\\Azeem\\AppData\\Local\\Temp\\ipykernel_52440\\136204539.py:11: FutureWarning: DataFrame.fillna with 'method' is deprecated and will raise in a future version. Use obj.ffill() or obj.bfill() instead.\n",
      "  df_copy[numeric_columns_to_impute] = df_copy[numeric_columns_to_impute].fillna(method='ffill')  # Forward fill\n"
     ]
    }
   ],
   "source": [
    "#Suitable for categorical \n",
    "# Assuming 'T_cols' is your DataFrame with missing values \n",
    "columns_to_impute = ['Gender','Age_Group','Transaction_City','Device_OS']  \n",
    "# fill null with most repeated values\n",
    "df_copy[columns_to_impute] = df_copy[columns_to_impute].fillna(df_copy[columns_to_impute].mode().iloc[0])\n",
    "\n",
    "\n",
    "numeric_columns_to_impute=['Amount','V1','V6','V8','V16']\n",
    "# numeric_columns_to_impute=['Amount','Column_9','V1','V6','V8','V16']\n",
    "# Assuming 'data' is your DataFrame with missing date values\n",
    "df_copy[numeric_columns_to_impute] = df_copy[numeric_columns_to_impute].fillna(method='ffill')  # Forward fill"
   ]
  },
  {
   "cell_type": "code",
   "execution_count": 93,
   "metadata": {},
   "outputs": [
    {
     "data": {
      "text/plain": [
       "transaction_date    0\n",
       "Gender              0\n",
       "Age_Group           0\n",
       "Transaction_City    0\n",
       "Merchant_Type       0\n",
       "Card_Type           0\n",
       "Device_OS           0\n",
       "Amount              0\n",
       "V1                  0\n",
       "V2                  0\n",
       "V3                  0\n",
       "V4                  0\n",
       "V5                  0\n",
       "V6                  0\n",
       "V7                  0\n",
       "V8                  0\n",
       "V9                  0\n",
       "V10                 0\n",
       "V11                 0\n",
       "V12                 0\n",
       "V13                 0\n",
       "V14                 0\n",
       "V15                 0\n",
       "V16                 0\n",
       "V17                 0\n",
       "V18                 0\n",
       "V19                 0\n",
       "V20                 0\n",
       "V21                 0\n",
       "V22                 0\n",
       "V23                 0\n",
       "V24                 0\n",
       "V25                 0\n",
       "V26                 0\n",
       "V27                 0\n",
       "V28                 0\n",
       "is_Fraudulent       0\n",
       "dtype: int64"
      ]
     },
     "execution_count": 93,
     "metadata": {},
     "output_type": "execute_result"
    }
   ],
   "source": [
    "df_copy.isna().sum()"
   ]
  },
  {
   "cell_type": "code",
   "execution_count": 94,
   "metadata": {},
   "outputs": [
    {
     "name": "stdout",
     "output_type": "stream",
     "text": [
      "No Frauds 99.83 % of the dataset\n",
      "Frauds 0.17 % of the dataset\n"
     ]
    }
   ],
   "source": [
    "# to check the skewness of the dataset \n",
    "print('No Frauds', round(df['is_Fraudulent'].value_counts()[0]/len(df) * 100,2), '% of the dataset')\n",
    "print('Frauds', round(df['is_Fraudulent'].value_counts()[1]/len(df) * 100,2), '% of the dataset')"
   ]
  },
  {
   "cell_type": "markdown",
   "metadata": {},
   "source": [
    "Notice how imbalanced is our original dataset! Most of the transactions are non-fraud. If we use this dataframe as the base for our predictive models and analysis we might get a lot of errors and our algorithms will probably overfit since it will \"assume\" that most transactions are not fraud. But we don't want our model to assume, we want our model to detect patterns that give signs of fraud!"
   ]
  },
  {
   "cell_type": "code",
   "execution_count": 95,
   "metadata": {},
   "outputs": [
    {
     "data": {
      "image/png": "[encoded data removed]",
      "text/plain": [
       "<Figure size 800x600 with 1 Axes>"
      ]
     },
     "metadata": {},
     "output_type": "display_data"
    }
   ],
   "source": [
    "fraud_counts = df['is_Fraudulent'].value_counts()\n",
    "fraud_labels = ['No Fraud', 'Fraud']  # Labels for the plot\n",
    "\n",
    "# Create a histogram (bar plot) for the fraud distribution\n",
    "plt.figure(figsize=(8, 6))\n",
    "plt.bar(fraud_labels, fraud_counts, color=['blue', 'red'])\n",
    "plt.xlabel('Transaction Type')\n",
    "plt.ylabel('Count')\n",
    "plt.title('Distribution of Fraudulent vs. Non-Fraudulent Transactions')\n",
    "plt.show()"
   ]
  },
  {
   "cell_type": "markdown",
   "metadata": {},
   "source": [
    "##### Scaling and Distributing\n",
    "In this phase of our kernel, we will first scale the columns comprise of Time and Amount . Time and amount should be scaled as the other columns. On the other hand, we need to also create a sub sample of the dataframe in order to have an equal amount of Fraud and Non-Fraud cases, helping our algorithms better understand patterns that determines whether a transaction is a fraud or not.\n",
    "##### What is a sub-Sample?\n",
    "In this scenario, our subsample will be a dataframe with a 50/50 ratio of fraud and non-fraud transactions. Meaning our sub-sample will have the same amount of fraud and non fraud transactions.\n",
    "##### Why do we create a sub-Sample?\n",
    "In the beginning of this notebook we saw that the original dataframe was heavily imbalanced! Using the original dataframe will cause the following issues:\n",
    "Overfitting: Our classification models will assume that in most cases there are no frauds! What we want for our model is to be certain when a fraud occurs.\n",
    "Wrong Correlations: Although we don't know what the \"V\" features stand for, it will be useful to understand how each of this features influence the result (Fraud or No Fraud) by having an imbalance dataframe we are not able to see the true correlations between the class and features.\n"
   ]
  },
  {
   "cell_type": "code",
   "execution_count": null,
   "metadata": {},
   "outputs": [],
   "source": []
  }
 ],
 "metadata": {
  "kernelspec": {
   "display_name": "Python 3",
   "language": "python",
   "name": "python3"
  },
  "language_info": {
   "codemirror_mode": {
    "name": "ipython",
    "version": 3
   },
   "file_extension": ".py",
   "mimetype": "text/x-python",
   "name": "python",
   "nbconvert_exporter": "python",
   "pygments_lexer": "ipython3",
   "version": "3.12.4"
  }
 },
 "nbformat": 4,
 "nbformat_minor": 2
}
